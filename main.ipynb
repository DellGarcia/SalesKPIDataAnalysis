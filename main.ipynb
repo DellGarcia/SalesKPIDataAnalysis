{
 "cells": [
  {
   "attachments": {},
   "cell_type": "markdown",
   "metadata": {},
   "source": [
    "## Setup"
   ]
  },
  {
   "attachments": {},
   "cell_type": "markdown",
   "metadata": {},
   "source": [
    "### Imports"
   ]
  },
  {
   "cell_type": "code",
   "execution_count": 72,
   "metadata": {},
   "outputs": [],
   "source": [
    "import pandas as pd\n",
    "import plotly.graph_objects as go\n",
    "import plotly.express as px"
   ]
  },
  {
   "attachments": {},
   "cell_type": "markdown",
   "metadata": {},
   "source": [
    "### Importação do CSV"
   ]
  },
  {
   "cell_type": "code",
   "execution_count": 73,
   "metadata": {},
   "outputs": [],
   "source": [
    "csv = pd.read_csv('./resources/superstore.csv')"
   ]
  },
  {
   "attachments": {},
   "cell_type": "markdown",
   "metadata": {},
   "source": [
    "### Definição de métodos"
   ]
  },
  {
   "cell_type": "code",
   "execution_count": 74,
   "metadata": {},
   "outputs": [],
   "source": [
    "def filter_columns(df, columns):\n",
    "    return df.drop(df.columns.difference(columns), axis=1)"
   ]
  },
  {
   "attachments": {},
   "cell_type": "markdown",
   "metadata": {},
   "source": [
    "## Tratamento do Dataframe"
   ]
  },
  {
   "cell_type": "markdown",
   "metadata": {},
   "source": [
    "### Padronizar nome das colunas"
   ]
  },
  {
   "cell_type": "code",
   "execution_count": 75,
   "metadata": {},
   "outputs": [],
   "source": [
    "csv.columns = csv.columns.str.lower()\n",
    "csv.columns = csv.columns.str.replace(' ', '_')\n",
    "csv.columns = csv.columns.str.replace('-', '_')"
   ]
  },
  {
   "cell_type": "markdown",
   "metadata": {},
   "source": [
    "### Remover colunas que não serão utilizadas"
   ]
  },
  {
   "cell_type": "code",
   "execution_count": 76,
   "metadata": {},
   "outputs": [],
   "source": [
    "columns_to_drop =  [\n",
    "    'unnamed:_0'\n",
    "]\n",
    "\n",
    "csv.drop(columns=columns_to_drop, inplace=True)"
   ]
  },
  {
   "cell_type": "code",
   "execution_count": 77,
   "metadata": {},
   "outputs": [
    {
     "data": {
      "text/plain": [
       "Index(['order_id', 'order_date', 'ship_date', 'ship_mode', 'customer_id',\n",
       "       'customer_name', 'segment', 'city', 'state', 'country', 'region',\n",
       "       'market', 'product_id', 'category', 'sub_category', 'product_name',\n",
       "       'sales', 'quantity', 'discount', 'profit', 'shipping_cost',\n",
       "       'order_priority', 'delivery_days', 'order_year', 'order_month'],\n",
       "      dtype='object')"
      ]
     },
     "execution_count": 77,
     "metadata": {},
     "output_type": "execute_result"
    }
   ],
   "source": [
    "csv.columns"
   ]
  },
  {
   "cell_type": "markdown",
   "metadata": {},
   "source": [
    "### Obter dataframe dos países"
   ]
  },
  {
   "cell_type": "code",
   "execution_count": 78,
   "metadata": {},
   "outputs": [],
   "source": [
    "import plotly.express as px\n",
    "\n",
    "gapminder_df = px.data.gapminder().query(\"year==2007\")\n",
    "gapminder_df = filter_columns(gapminder_df, ['country', 'continent', 'iso_alpha', 'iso_num'])"
   ]
  },
  {
   "cell_type": "markdown",
   "metadata": {},
   "source": [
    "### Adicionar países que não estão inclusos"
   ]
  },
  {
   "cell_type": "code",
   "execution_count": 79,
   "metadata": {},
   "outputs": [],
   "source": [
    "new_countries = pd.DataFrame({\n",
    "    'country': ['Russia', 'Ukraine', 'Kazakhstan', 'South Korea', 'Suriname'],\n",
    "    'continent': ['Europe', 'Europe', 'Europe', 'Asia', 'Americas'],\n",
    "    'iso_alpha': ['RUS', 'UKR', 'KAZ', 'KOR', 'SUR'],\n",
    "    'iso_num': [643, 804, 398, 410, 740]\n",
    "})\n",
    "\n",
    "gapminder_df = pd.concat([gapminder_df, new_countries], ignore_index=True)"
   ]
  },
  {
   "attachments": {},
   "cell_type": "markdown",
   "metadata": {},
   "source": [
    "### Atualizar valores"
   ]
  },
  {
   "cell_type": "code",
   "execution_count": 80,
   "metadata": {},
   "outputs": [],
   "source": [
    "countries = [\n",
    "    ('YEM', 'Yemen')\n",
    "]\n",
    "\n",
    "for iso_alpha, country in countries:\n",
    "    gapminder_df.loc[gapminder_df['iso_alpha'] == iso_alpha, 'country'] = country"
   ]
  },
  {
   "cell_type": "markdown",
   "metadata": {},
   "source": [
    "### Realizando o merge"
   ]
  },
  {
   "cell_type": "code",
   "execution_count": 81,
   "metadata": {},
   "outputs": [],
   "source": [
    "database = pd.merge(csv, gapminder_df, on=\"country\", how=\"left\")"
   ]
  },
  {
   "cell_type": "markdown",
   "metadata": {},
   "source": [
    "## Análises"
   ]
  },
  {
   "cell_type": "markdown",
   "metadata": {},
   "source": [
    "### Quantidade de Vendas por país"
   ]
  },
  {
   "cell_type": "code",
   "execution_count": null,
   "metadata": {
    "pycharm": {
     "is_executing": true
    }
   },
   "outputs": [],
   "source": [
    "sales_per_country = filter_columns(database, ['country', 'iso_alpha'])\n",
    "sales_per_country.groupby(by=['country', 'iso_alpha'])['country'].count()\n",
    "sales_per_country = pd.DataFrame({\n",
    "    'sales' : sales_per_country.groupby(by=['country', 'iso_alpha'])['country'].count()\n",
    "}).reset_index()\n",
    "\n",
    "fig = go.Figure(data=go.Choropleth(\n",
    "    locations=sales_per_country['iso_alpha'],\n",
    "    z=sales_per_country['sales'],\n",
    "    text=sales_per_country['country'],\n",
    "    colorscale='Blues',\n",
    "    autocolorscale=False,\n",
    "    reversescale=True,\n",
    "    marker_line_color='darkgray',\n",
    "    marker_line_width=0.5,\n",
    "    colorbar_title = 'Número de vendas',\n",
    "))\n",
    "\n",
    "fig.update_layout(\n",
    "    margin=dict(l=50, r=50, t=50, b=50),\n",
    "    title_text='Quantidade de Vendas por País',\n",
    "    geo=dict(\n",
    "        showframe=False,\n",
    "        showcoastlines=True,\n",
    "        projection_type='equirectangular'\n",
    "    )\n",
    ")\n",
    "\n",
    "fig.show()"
   ]
  },
  {
   "attachments": {},
   "cell_type": "markdown",
   "metadata": {},
   "source": [
    "### Lucro por país"
   ]
  },
  {
   "cell_type": "code",
   "execution_count": 83,
   "metadata": {},
   "outputs": [],
   "source": [
    "profit_per_country = filter_columns(database, ['country', 'iso_alpha', 'profit'])\n",
    "\n",
    "profit_per_country = pd.DataFrame({\n",
    "    'profit' : profit_per_country.groupby(by=['country', 'iso_alpha'])['profit'].sum()\n",
    "}).reset_index()"
   ]
  },
  {
   "cell_type": "code",
   "execution_count": null,
   "metadata": {},
   "outputs": [],
   "source": [
    "fig = go.Figure(data=go.Choropleth(\n",
    "    locations = profit_per_country['iso_alpha'],\n",
    "    z = profit_per_country['profit'],\n",
    "    text = profit_per_country['country'],\n",
    "    colorscale = 'Blues',\n",
    "    autocolorscale=False,\n",
    "    reversescale=True,\n",
    "    marker_line_color='darkgray',\n",
    "    marker_line_width=0.5,\n",
    "    colorbar_tickprefix = '$',\n",
    "    colorbar_title = 'LUCRO',\n",
    "))\n",
    "\n",
    "fig.update_layout(\n",
    "    margin=dict(l=50, r=50, t=50, b=50),\n",
    "    title_text='Lucro por país',\n",
    "    geo=dict(\n",
    "        showframe=False,\n",
    "        showcoastlines=False,\n",
    "        projection_type='equirectangular'\n",
    "    )\n",
    ")\n",
    "\n",
    "fig.show()"
   ]
  },
  {
   "attachments": {},
   "cell_type": "markdown",
   "metadata": {},
   "source": [
    "### Média do tempo de entrega por tipo de entrega em dias"
   ]
  },
  {
   "cell_type": "code",
   "execution_count": 51,
   "metadata": {},
   "outputs": [],
   "source": [
    "ship_mode_mean = filter_columns(database, ['ship_mode', 'delivery_days'])\n",
    "\n",
    "ship_mode_mean = pd.DataFrame({\n",
    "    'mean' : ship_mode_mean.groupby(by=['ship_mode'])['delivery_days'].mean()\n",
    "}).reset_index()\n",
    "\n",
    "ship_mode_mean = ship_mode_mean.sort_values(by=['mean'])"
   ]
  },
  {
   "cell_type": "code",
   "execution_count": null,
   "metadata": {},
   "outputs": [],
   "source": [
    "long_df = px.data.medals_long()\n",
    "\n",
    "fig = px.bar(\n",
    "    ship_mode_mean, \n",
    "    x=\"ship_mode\", \n",
    "    y=\"mean\", \n",
    "    color=\"ship_mode\", \n",
    "    title=\"Média do tempo de entrega por tipo de entrega em dias\", \n",
    "    pattern_shape=\"ship_mode\"\n",
    ")\n",
    "\n",
    "fig.show()"
   ]
  },
  {
   "attachments": {},
   "cell_type": "markdown",
   "metadata": {},
   "source": [
    "### Pedidos por ano"
   ]
  },
  {
   "cell_type": "code",
   "execution_count": null,
   "metadata": {},
   "outputs": [],
   "source": [
    "order_per_year = filter_columns(database, ['order_year'])\n",
    "\n",
    "order_per_year = pd.DataFrame({\n",
    "    'count' : order_per_year.groupby(by=['order_year'])['order_year'].count()\n",
    "}).reset_index()\n",
    "\n",
    "order_per_year = order_per_year.sort_values(by=['count'])"
   ]
  },
  {
   "attachments": {},
   "cell_type": "markdown",
   "metadata": {},
   "source": [
    "### Pedidos por mês e ano"
   ]
  },
  {
   "cell_type": "code",
   "execution_count": 64,
   "metadata": {},
   "outputs": [],
   "source": [
    "order_per_month = filter_columns(database, ['order_year', 'order_month'])\n",
    "\n",
    "order_per_month = pd.DataFrame({\n",
    "    'count' : order_per_month.groupby(by=['order_month', 'order_year'])['order_month'].count()\n",
    "}).reset_index()\n",
    "\n",
    "order_per_month = order_per_month.sort_values(by=['order_year', 'order_month'])"
   ]
  },
  {
   "attachments": {},
   "cell_type": "markdown",
   "metadata": {},
   "source": [
    "### Mapa de calor das correlações"
   ]
  },
  {
   "cell_type": "code",
   "execution_count": 65,
   "metadata": {},
   "outputs": [],
   "source": [
    "res = filter_columns(csv, ['sales', 'quantity', 'discount', 'profit', 'shipping_cost', 'delivery_days'])"
   ]
  },
  {
   "cell_type": "code",
   "execution_count": null,
   "metadata": {},
   "outputs": [],
   "source": [
    "import plotly.graph_objects as go\n",
    "\n",
    "fig = go.Figure(data=go.Heatmap(\n",
    "\t\t\t\t\tx=res.columns,\n",
    "                    y=res.columns,\n",
    "                    z=res.corr(),\n",
    "                    text=res.corr(),\n",
    "                    # text_auto=True,\n",
    "                    texttemplate=\"%{text:.4f}\",\n",
    "                    textfont={\"size\": 16}))\n",
    "\n",
    "fig.show()"
   ]
  }
 ],
 "metadata": {
  "kernelspec": {
   "display_name": "Python 3 (ipykernel)",
   "language": "python",
   "name": "python3"
  },
  "language_info": {
   "codemirror_mode": {
    "name": "ipython",
    "version": 3
   },
   "file_extension": ".py",
   "mimetype": "text/x-python",
   "name": "python",
   "nbconvert_exporter": "python",
   "pygments_lexer": "ipython3",
   "version": "3.8.5"
  }
 },
 "nbformat": 4,
 "nbformat_minor": 2
}
